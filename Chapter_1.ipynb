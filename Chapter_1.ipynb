{
  "nbformat": 4,
  "nbformat_minor": 0,
  "metadata": {
    "colab": {
      "name": "Chapter_1",
      "provenance": [],
      "authorship_tag": "ABX9TyMmx2b8rdzLfjSegQGTunTY",
      "include_colab_link": true
    },
    "kernelspec": {
      "name": "python3",
      "display_name": "Python 3"
    }
  },
  "cells": [
    {
      "cell_type": "markdown",
      "metadata": {
        "id": "view-in-github",
        "colab_type": "text"
      },
      "source": [
        "<a href=\"https://colab.research.google.com/github/nitrozyna/CTCI_6th_edition_python/blob/master/Chapter_1.ipynb\" target=\"_parent\"><img src=\"https://colab.research.google.com/assets/colab-badge.svg\" alt=\"Open In Colab\"/></a>"
      ]
    },
    {
      "cell_type": "markdown",
      "metadata": {
        "id": "tHJRgoHL_Reh",
        "colab_type": "text"
      },
      "source": [
        "**1.1 IsUnique**: Implement an algorithm to determine if a string has all unique characters. What if you cannot use additional data structures?"
      ]
    },
    {
      "cell_type": "code",
      "metadata": {
        "id": "fY6TxZhl_e4E",
        "colab_type": "code",
        "colab": {}
      },
      "source": [
        "#Using an aditional data structure\n",
        "def is_unique(string):\n",
        "    set_chars = set(string)\n",
        "    return len(set_chars) == len(string)\n",
        "                                 \n",
        "#Not using any addtional data structures, use a double for loop and compare each\n",
        "# character to the rest"
      ],
      "execution_count": null,
      "outputs": []
    },
    {
      "cell_type": "markdown",
      "metadata": {
        "id": "KkscJlHLKKE3",
        "colab_type": "text"
      },
      "source": [
        "**1.2 Check Permutation**: Given two strings, write a method to decide if one is a permutation of the other"
      ]
    },
    {
      "cell_type": "code",
      "metadata": {
        "id": "mqQOAdhkKNo6",
        "colab_type": "code",
        "colab": {}
      },
      "source": [
        "def check_permutation(s1,s2):\n",
        "    return len(s1) == len(s2) and set(s1) == set(s2)"
      ],
      "execution_count": null,
      "outputs": []
    },
    {
      "cell_type": "markdown",
      "metadata": {
        "id": "HJQjWIpKNQCw",
        "colab_type": "text"
      },
      "source": [
        "**1.3 URLify**: Write a method to replace all spaces in a string with '%20: You may assume that the string has sufficient space at the end to hold the additional characters, and that you are given the true length of the string (Note: If implementing in Java, please use a character array so that you can perform this operation in place.)"
      ]
    },
    {
      "cell_type": "code",
      "metadata": {
        "id": "rWM6w6AySZLR",
        "colab_type": "code",
        "colab": {}
      },
      "source": [
        "def url_fy(string):\n",
        "    return string.strip().replace(\" \",\"%20\")"
      ],
      "execution_count": null,
      "outputs": []
    },
    {
      "cell_type": "markdown",
      "metadata": {
        "id": "TP6LqAC-Ss-G",
        "colab_type": "text"
      },
      "source": [
        "**1.4 Palindrome Permutation**: Given a string, write a function to check if it is a permutation of a palindrome. A palindrome is a word or phrase that is the same forwards and backwards. A permutation is a rearrangement of letters. The palindrome does not need to be limited to just dictionary words."
      ]
    },
    {
      "cell_type": "code",
      "metadata": {
        "id": "WF2dd-x_XvGt",
        "colab_type": "code",
        "colab": {}
      },
      "source": [
        "from collections import Counter\n",
        "def palindrome_permutation(string):\n",
        "    string = string.replace(\" \",\"\")\n",
        "    chars_counter = Counter(string)\n",
        "    unique = False\n",
        "    for v in chars_counter.values():\n",
        "        if v % 2:\n",
        "            if unique:\n",
        "                return False\n",
        "            if not unique:\n",
        "                unique = True\n",
        "    return True"
      ],
      "execution_count": null,
      "outputs": []
    },
    {
      "cell_type": "markdown",
      "metadata": {
        "id": "hxmDL46NmzUE",
        "colab_type": "text"
      },
      "source": [
        "**1.5 One Away**: There are three types of edits that can be performed on strings: insert a character, remove a character, or replace a character. Given\n",
        "two strings, write a function to check if they are one edit( or zero edits) away."
      ]
    },
    {
      "cell_type": "code",
      "metadata": {
        "id": "9ksIJ8mhbZZ-",
        "colab_type": "code",
        "colab": {}
      },
      "source": [
        "from collections import Counter\n",
        "def one_away(s1,s2):\n",
        "    if len(s1) - len(s2) not in (-1,0,1):\n",
        "        return False\n",
        "    #d = { -1: (0,1), 0: (1,1), 1: (1,0) }\n",
        "    #x,y = d[ len(s1) - len(s2) ]\n",
        "    x,y = { -1: (0,1), 0: (1,1), 1: (1,0) }[ len(s1) - len(s2) ]\n",
        "    for idx,(c1,c2) in enumerate(zip(s1,s2)):\n",
        "        if c1 != c2:\n",
        "            s1 = s1[:idx] + s1[idx+x:]\n",
        "            s2 = s2[:idx] + s2[idx+y:]\n",
        "            return s1 == s2\n",
        "    return True"
      ],
      "execution_count": null,
      "outputs": []
    },
    {
      "cell_type": "markdown",
      "metadata": {
        "id": "ebVNwSX1wloO",
        "colab_type": "text"
      },
      "source": [
        "**1.6 String Compression**: Implement a method to perform basic string compression using the counts of repeated characters. For example, the string aabcccccaaa would become a2b1c5a3. If the compressed string would not become smaller than the original string, your method should return the original string. You can assume the string has only uppercase and lowercase letters (a - z)."
      ]
    },
    {
      "cell_type": "code",
      "metadata": {
        "id": "gufMb0Pvjp6b",
        "colab_type": "code",
        "colab": {}
      },
      "source": [
        "def string_compression(string):\n",
        "    new_string = \"\"\n",
        "    count = 0\n",
        "    last = len(string)-1\n",
        "    for idx,c in enumerate(string):\n",
        "        if idx == last:\n",
        "            new_string += c + str(count+1)\n",
        "        elif c == string[idx+1]:\n",
        "            count += 1\n",
        "        else:\n",
        "            new_string += c + str(count+1)\n",
        "            count = 0\n",
        "    return min(string,new_string,key=len)"
      ],
      "execution_count": null,
      "outputs": []
    },
    {
      "cell_type": "markdown",
      "metadata": {
        "id": "PJK8P4Zl-5M_",
        "colab_type": "text"
      },
      "source": [
        "**1.7 Rotate Matrix**: Given an image represented by an NxN matrix, where each pixel in the image is 4 bytes, write a method to rotate the image by 90 degrees (Can an you do this in place?)"
      ]
    },
    {
      "cell_type": "code",
      "metadata": {
        "id": "k8Q5xwx5ALkT",
        "colab_type": "code",
        "colab": {
          "base_uri": "https://localhost:8080/",
          "height": 35
        },
        "outputId": "1bf0a3f5-7c7a-4dfa-c71b-2faa3edf4f0f"
      },
      "source": [
        "def rotate_matrix(matrix):\n",
        "    new_matrix = matrix\n",
        "    for row,e in enumerate(matrix):\n",
        "        for col,n in enumerate(e):\n",
        "            #new_matrix[row]-col].replace([col-row][row],n) \n",
        "            new_matrix[col-row][row] = n\n",
        "    return new_matrix\n",
        "\n",
        "print(rotate_matrix(matrix))"
      ],
      "execution_count": null,
      "outputs": [
        {
          "output_type": "stream",
          "text": [
            "[[1, 5, 3], [3, 6, 5], [5, 3, 3]]\n"
          ],
          "name": "stdout"
        }
      ]
    },
    {
      "cell_type": "code",
      "metadata": {
        "id": "tE-f2F0IArhX",
        "colab_type": "code",
        "colab": {
          "base_uri": "https://localhost:8080/",
          "height": 108
        },
        "outputId": "a3d592ef-3e70-446a-b93e-a94946d152db"
      },
      "source": [
        "matrix = [[1,2,3,4,5],\n",
        "          [4,5,6,7,8],\n",
        "          [7,8,9,10,11],\n",
        "          [17,18,19,20,21],\n",
        "          [27,28,29,22,23],]\n",
        "n = len(matrix)\n",
        "layer_count = int(n/2)\n",
        "for x in range(layer_count):\n",
        "    for idx in range(n-2*x-1):\n",
        "        fr_e = matrix[x][idx+x]\n",
        "        lc_e = matrix[idx+x][n-(x+1)]\n",
        "        lr_e_r = matrix[n-(x+1)][n-idx-(x+1)]\n",
        "        fc_e_r = matrix[n-idx-(x+1)][x]\n",
        "        matrix[x][idx+x] = fc_e_r\n",
        "        matrix[idx+x][n-(x+1)] = fr_e\n",
        "        matrix[n-idx-(x+1)][x] = lr_e_r\n",
        "        matrix[n-(x+1)][n-idx-(x+1)] = lc_e\n",
        "from pprint import pprint\n",
        "pprint(matrix)"
      ],
      "execution_count": null,
      "outputs": [
        {
          "output_type": "stream",
          "text": [
            "[[27, 17, 7, 4, 1],\n",
            " [28, 18, 8, 5, 2],\n",
            " [29, 19, 9, 6, 3],\n",
            " [22, 20, 10, 7, 4],\n",
            " [23, 21, 11, 8, 5]]\n"
          ],
          "name": "stdout"
        }
      ]
    },
    {
      "cell_type": "code",
      "metadata": {
        "id": "hJVYYnnumB8R",
        "colab_type": "code",
        "colab": {
          "base_uri": "https://localhost:8080/",
          "height": 72
        },
        "outputId": "28b776d4-e707-44b6-ea6c-420e1384043d"
      },
      "source": [
        "n = 20\n",
        "for x in [0,1,2]:\n",
        "    print(n- -1)"
      ],
      "execution_count": null,
      "outputs": [
        {
          "output_type": "stream",
          "text": [
            "19\n",
            "17\n",
            "15\n"
          ],
          "name": "stdout"
        }
      ]
    },
    {
      "cell_type": "code",
      "metadata": {
        "id": "WO_SnysQIfas",
        "colab_type": "code",
        "colab": {}
      },
      "source": [
        "a = list( range( 1, 10 ) )\n",
        "b = list( range( 11, 20 ) )\n",
        "c = list( range( 21, 30 ) )\n",
        "d = list( range( 31, 40 ) )\n",
        "\n",
        "for idx in range(len(a)-1):\n",
        "    a_e = a[idx]\n",
        "    b_e = b[idx]\n",
        "    a[idx] = d[idx]\n",
        "    b[idx] = a_e\n",
        "    d[idx] = c[idx]\n",
        "    c[idx] = b_e\n",
        "\n",
        "assert( a == list(range(31,40)) )\n",
        "assert( b == list(range(1,10)) )\n",
        "assert( c == list(range(11,20)) )\n",
        "assert( d == list(range(21,30)) )"
      ],
      "execution_count": null,
      "outputs": []
    },
    {
      "cell_type": "code",
      "metadata": {
        "id": "bSPfN80xfPeC",
        "colab_type": "code",
        "colab": {
          "base_uri": "https://localhost:8080/",
          "height": 199
        },
        "outputId": "d4b6b9b7-f1b9-45ed-9c09-92c15f724182"
      },
      "source": [
        "n = 10\n",
        "a = list(range(n))\n",
        "for idx in range(n):\n",
        "    print(a[len(a)-idx-1])"
      ],
      "execution_count": null,
      "outputs": [
        {
          "output_type": "stream",
          "text": [
            "9\n",
            "8\n",
            "7\n",
            "6\n",
            "5\n",
            "4\n",
            "3\n",
            "2\n",
            "1\n",
            "0\n"
          ],
          "name": "stdout"
        }
      ]
    },
    {
      "cell_type": "code",
      "metadata": {
        "id": "J743RnEvGsNO",
        "colab_type": "code",
        "colab": {
          "base_uri": "https://localhost:8080/",
          "height": 171
        },
        "outputId": "d6961222-82cb-4e43-9600-376ce52f58a2"
      },
      "source": [
        "assert(rotate_matrix([[1,3,5],[4,5,6],[7,8,9]]) == [[7,4,1],[8,5,3],[9,6,5]])"
      ],
      "execution_count": null,
      "outputs": [
        {
          "output_type": "error",
          "ename": "AssertionError",
          "evalue": "ignored",
          "traceback": [
            "\u001b[0;31m---------------------------------------------------------------------------\u001b[0m",
            "\u001b[0;31mAssertionError\u001b[0m                            Traceback (most recent call last)",
            "\u001b[0;32m<ipython-input-29-35102a867d1d>\u001b[0m in \u001b[0;36m<module>\u001b[0;34m()\u001b[0m\n\u001b[0;32m----> 1\u001b[0;31m \u001b[0;32massert\u001b[0m\u001b[0;34m(\u001b[0m\u001b[0mrotate_matrix\u001b[0m\u001b[0;34m(\u001b[0m\u001b[0;34m[\u001b[0m\u001b[0;34m[\u001b[0m\u001b[0;36m1\u001b[0m\u001b[0;34m,\u001b[0m\u001b[0;36m3\u001b[0m\u001b[0;34m,\u001b[0m\u001b[0;36m5\u001b[0m\u001b[0;34m]\u001b[0m\u001b[0;34m,\u001b[0m\u001b[0;34m[\u001b[0m\u001b[0;36m4\u001b[0m\u001b[0;34m,\u001b[0m\u001b[0;36m5\u001b[0m\u001b[0;34m,\u001b[0m\u001b[0;36m6\u001b[0m\u001b[0;34m]\u001b[0m\u001b[0;34m,\u001b[0m\u001b[0;34m[\u001b[0m\u001b[0;36m7\u001b[0m\u001b[0;34m,\u001b[0m\u001b[0;36m8\u001b[0m\u001b[0;34m,\u001b[0m\u001b[0;36m9\u001b[0m\u001b[0;34m]\u001b[0m\u001b[0;34m]\u001b[0m\u001b[0;34m)\u001b[0m \u001b[0;34m==\u001b[0m \u001b[0;34m[\u001b[0m\u001b[0;34m[\u001b[0m\u001b[0;36m7\u001b[0m\u001b[0;34m,\u001b[0m\u001b[0;36m4\u001b[0m\u001b[0;34m,\u001b[0m\u001b[0;36m1\u001b[0m\u001b[0;34m]\u001b[0m\u001b[0;34m,\u001b[0m\u001b[0;34m[\u001b[0m\u001b[0;36m8\u001b[0m\u001b[0;34m,\u001b[0m\u001b[0;36m5\u001b[0m\u001b[0;34m,\u001b[0m\u001b[0;36m3\u001b[0m\u001b[0;34m]\u001b[0m\u001b[0;34m,\u001b[0m\u001b[0;34m[\u001b[0m\u001b[0;36m9\u001b[0m\u001b[0;34m,\u001b[0m\u001b[0;36m6\u001b[0m\u001b[0;34m,\u001b[0m\u001b[0;36m5\u001b[0m\u001b[0;34m]\u001b[0m\u001b[0;34m]\u001b[0m\u001b[0;34m)\u001b[0m\u001b[0;34m\u001b[0m\u001b[0;34m\u001b[0m\u001b[0m\n\u001b[0m",
            "\u001b[0;31mAssertionError\u001b[0m: "
          ]
        }
      ]
    },
    {
      "cell_type": "code",
      "metadata": {
        "id": "fNqv8-OcR7ct",
        "colab_type": "code",
        "colab": {
          "base_uri": "https://localhost:8080/",
          "height": 35
        },
        "outputId": "53a01f81-d989-4afe-cde8-b69ffdb0f499"
      },
      "source": [
        "a = list(range(1,10))\n",
        "b = list(range(11,20))\n",
        "for idx,e in enumerate(a):\n",
        "    c = b[idx]\n",
        "    b[idx] = e\n",
        "    a[idx] = c\n",
        "print(a,b)"
      ],
      "execution_count": null,
      "outputs": [
        {
          "output_type": "stream",
          "text": [
            "[11, 12, 13, 14, 15, 16, 17, 18, 19] [1, 2, 3, 4, 5, 6, 7, 8, 9]\n"
          ],
          "name": "stdout"
        }
      ]
    },
    {
      "cell_type": "code",
      "metadata": {
        "id": "UAQEIn5SSpKr",
        "colab_type": "code",
        "colab": {}
      },
      "source": [
        "assert( a == list(range(11,20)) )\n",
        "assert( b == list(range(1,10)) )"
      ],
      "execution_count": null,
      "outputs": []
    },
    {
      "cell_type": "code",
      "metadata": {
        "id": "74RXrkPnRlGb",
        "colab_type": "code",
        "colab": {
          "base_uri": "https://localhost:8080/",
          "height": 35
        },
        "outputId": "eadf76ca-f218-467e-ff1e-e54e7f36b5cb"
      },
      "source": [
        "print(b)"
      ],
      "execution_count": null,
      "outputs": [
        {
          "output_type": "stream",
          "text": [
            "[11, 12, 13, 14, 15, 16, 17, 18, 19]\n"
          ],
          "name": "stdout"
        }
      ]
    },
    {
      "cell_type": "code",
      "metadata": {
        "id": "Hka9WypaRmkX",
        "colab_type": "code",
        "colab": {}
      },
      "source": [
        ""
      ],
      "execution_count": null,
      "outputs": []
    }
  ]
}