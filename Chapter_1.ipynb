{
  "nbformat": 4,
  "nbformat_minor": 0,
  "metadata": {
    "colab": {
      "name": "Chapter_1",
      "provenance": [],
      "authorship_tag": "ABX9TyMn17pPxgq5KVn/e3F5xe11",
      "include_colab_link": true
    },
    "kernelspec": {
      "name": "python3",
      "display_name": "Python 3"
    }
  },
  "cells": [
    {
      "cell_type": "markdown",
      "metadata": {
        "id": "view-in-github",
        "colab_type": "text"
      },
      "source": [
        "<a href=\"https://colab.research.google.com/github/nitrozyna/CTCI_6th_edition_python/blob/master/Chapter_1.ipynb\" target=\"_parent\"><img src=\"https://colab.research.google.com/assets/colab-badge.svg\" alt=\"Open In Colab\"/></a>"
      ]
    },
    {
      "cell_type": "markdown",
      "metadata": {
        "id": "tHJRgoHL_Reh",
        "colab_type": "text"
      },
      "source": [
        "**1.1 IsUnique**: Implement an algorithm to determine if a string has all unique characters. What if you cannot use additional data structures?"
      ]
    },
    {
      "cell_type": "code",
      "metadata": {
        "id": "fY6TxZhl_e4E",
        "colab_type": "code",
        "colab": {}
      },
      "source": [
        "#Using an aditional data structure\n",
        "def is_unique(string):\n",
        "    set_chars = set(string)\n",
        "    return len(set_chars) == len(string)\n",
        "                                 \n",
        "#Not using any addtional data structures, use a double for loop and compare each\n",
        "# character to the rest"
      ],
      "execution_count": 19,
      "outputs": []
    },
    {
      "cell_type": "markdown",
      "metadata": {
        "id": "KkscJlHLKKE3",
        "colab_type": "text"
      },
      "source": [
        "**1.2 Check Permutation**: Given two strings, write a method to decide if one is a permutation of the other"
      ]
    },
    {
      "cell_type": "code",
      "metadata": {
        "id": "mqQOAdhkKNo6",
        "colab_type": "code",
        "colab": {}
      },
      "source": [
        "def check_permutation(s1,s2):\n",
        "    return len(s1) == len(s2) and set(s1) == set(s2)"
      ],
      "execution_count": 34,
      "outputs": []
    },
    {
      "cell_type": "markdown",
      "metadata": {
        "id": "HJQjWIpKNQCw",
        "colab_type": "text"
      },
      "source": [
        "**1.3 URLify**: Write a method to replace all spaces in a string with '%20: You may assume that the string has sufficient space at the end to hold the additional characters, and that you are given the true length of the string (Note: If implementing in Java, please use a character array so that you can perform this operation in place.)"
      ]
    },
    {
      "cell_type": "code",
      "metadata": {
        "id": "rWM6w6AySZLR",
        "colab_type": "code",
        "colab": {}
      },
      "source": [
        "def url_fy(string):\n",
        "    return string.strip().replace(\" \",\"%20\")"
      ],
      "execution_count": 36,
      "outputs": []
    },
    {
      "cell_type": "markdown",
      "metadata": {
        "id": "TP6LqAC-Ss-G",
        "colab_type": "text"
      },
      "source": [
        "**1.4 Palindrome Permutation**: Given a string, write a function to check if it is a permutation of a palindrome. A palindrome is a word or phrase that is the same forwards and backwards. A permutation is a rearrangement of letters. The palindrome does not need to be limited to just dictionary words."
      ]
    },
    {
      "cell_type": "code",
      "metadata": {
        "id": "WF2dd-x_XvGt",
        "colab_type": "code",
        "colab": {}
      },
      "source": [
        "from collections import Counter\n",
        "def palindrome_permutation(string):\n",
        "    string = string.replace(\" \",\"\")\n",
        "    chars_counter = Counter(string)\n",
        "    unique = False\n",
        "    for v in chars_counter.values():\n",
        "        if v % 2:\n",
        "            if unique:\n",
        "                return False\n",
        "            if not unique:\n",
        "                unique = True\n",
        "    return True"
      ],
      "execution_count": 71,
      "outputs": []
    },
    {
      "cell_type": "markdown",
      "metadata": {
        "id": "hxmDL46NmzUE",
        "colab_type": "text"
      },
      "source": [
        "**1.5**"
      ]
    },
    {
      "cell_type": "code",
      "metadata": {
        "id": "9ksIJ8mhbZZ-",
        "colab_type": "code",
        "colab": {}
      },
      "source": [
        "\n",
        "def one_away(s1,s2):\n",
        "    if len(s1) - len(s2) not in (-1,0,1):\n",
        "        return False\n",
        "    # find if only one replacement presen\n",
        "    if len(s1) == len(s2):\n",
        "        unique = False\n",
        "        for c,k in zip(s1,s2):\n",
        "            print(c,k)\n",
        "            if c != k:\n",
        "                if unique:\n",
        "                    return False\n",
        "                unique = True\n",
        "        return True\n",
        "    else:\n",
        "        raise NotImplementedError(\"let's do this later\")"
      ],
      "execution_count": 83,
      "outputs": []
    },
    {
      "cell_type": "code",
      "metadata": {
        "id": "gufMb0Pvjp6b",
        "colab_type": "code",
        "colab": {
          "base_uri": "https://localhost:8080/",
          "height": 248
        },
        "outputId": "2914d7c2-a015-4f3d-85d9-d9b48bed157d"
      },
      "source": [
        "print(one_away(\"balce\",\"pale\"))"
      ],
      "execution_count": 86,
      "outputs": [
        {
          "output_type": "error",
          "ename": "NotImplementedError",
          "evalue": "ignored",
          "traceback": [
            "\u001b[0;31m---------------------------------------------------------------------------\u001b[0m",
            "\u001b[0;31mNotImplementedError\u001b[0m                       Traceback (most recent call last)",
            "\u001b[0;32m<ipython-input-86-0a30e727180f>\u001b[0m in \u001b[0;36m<module>\u001b[0;34m()\u001b[0m\n\u001b[0;32m----> 1\u001b[0;31m \u001b[0mprint\u001b[0m\u001b[0;34m(\u001b[0m\u001b[0mone_away\u001b[0m\u001b[0;34m(\u001b[0m\u001b[0;34m\"balce\"\u001b[0m\u001b[0;34m,\u001b[0m\u001b[0;34m\"pale\"\u001b[0m\u001b[0;34m)\u001b[0m\u001b[0;34m)\u001b[0m\u001b[0;34m\u001b[0m\u001b[0;34m\u001b[0m\u001b[0m\n\u001b[0m",
            "\u001b[0;32m<ipython-input-83-14eb0441b9d3>\u001b[0m in \u001b[0;36mone_away\u001b[0;34m(s1, s2)\u001b[0m\n\u001b[1;32m     14\u001b[0m         \u001b[0;32mreturn\u001b[0m \u001b[0;32mTrue\u001b[0m\u001b[0;34m\u001b[0m\u001b[0;34m\u001b[0m\u001b[0m\n\u001b[1;32m     15\u001b[0m     \u001b[0;32melse\u001b[0m\u001b[0;34m:\u001b[0m\u001b[0;34m\u001b[0m\u001b[0;34m\u001b[0m\u001b[0m\n\u001b[0;32m---> 16\u001b[0;31m         \u001b[0;32mraise\u001b[0m \u001b[0mNotImplementedError\u001b[0m\u001b[0;34m(\u001b[0m\u001b[0;34m\"let's do this later\"\u001b[0m\u001b[0;34m)\u001b[0m\u001b[0;34m\u001b[0m\u001b[0;34m\u001b[0m\u001b[0m\n\u001b[0m",
            "\u001b[0;31mNotImplementedError\u001b[0m: let's do this later"
          ]
        }
      ]
    }
  ]
}