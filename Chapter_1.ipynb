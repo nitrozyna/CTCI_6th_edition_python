{
  "nbformat": 4,
  "nbformat_minor": 0,
  "metadata": {
    "colab": {
      "name": "Chapter_1",
      "provenance": [],
      "authorship_tag": "ABX9TyM6zE0yvNfDtYS5Y2lmyGd9",
      "include_colab_link": true
    },
    "kernelspec": {
      "name": "python3",
      "display_name": "Python 3"
    }
  },
  "cells": [
    {
      "cell_type": "markdown",
      "metadata": {
        "id": "view-in-github",
        "colab_type": "text"
      },
      "source": [
        "<a href=\"https://colab.research.google.com/github/nitrozyna/CTCI_6th_edition_python/blob/master/Chapter_1.ipynb\" target=\"_parent\"><img src=\"https://colab.research.google.com/assets/colab-badge.svg\" alt=\"Open In Colab\"/></a>"
      ]
    },
    {
      "cell_type": "markdown",
      "metadata": {
        "id": "tHJRgoHL_Reh",
        "colab_type": "text"
      },
      "source": [
        "**1.1 IsUnique**: Implement an algorithm to determine if a string has all unique characters. What if you cannot use additional data structures?"
      ]
    },
    {
      "cell_type": "code",
      "metadata": {
        "id": "fY6TxZhl_e4E",
        "colab_type": "code",
        "colab": {}
      },
      "source": [
        "#Using an aditional data structure\n",
        "def is_unique(string):\n",
        "    set_chars = set(string)\n",
        "    return len(set_chars) == len(string)\n",
        "                                 \n",
        "#Not using any addtional data structures, use a double for loop and compare each\n",
        "# character to the rest"
      ],
      "execution_count": null,
      "outputs": []
    },
    {
      "cell_type": "markdown",
      "metadata": {
        "id": "KkscJlHLKKE3",
        "colab_type": "text"
      },
      "source": [
        "**1.2 Check Permutation**: Given two strings, write a method to decide if one is a permutation of the other"
      ]
    },
    {
      "cell_type": "code",
      "metadata": {
        "id": "mqQOAdhkKNo6",
        "colab_type": "code",
        "colab": {}
      },
      "source": [
        "def check_permutation(s1,s2):\n",
        "    return len(s1) == len(s2) and set(s1) == set(s2)"
      ],
      "execution_count": null,
      "outputs": []
    },
    {
      "cell_type": "markdown",
      "metadata": {
        "id": "HJQjWIpKNQCw",
        "colab_type": "text"
      },
      "source": [
        "**1.3 URLify**: Write a method to replace all spaces in a string with '%20: You may assume that the string has sufficient space at the end to hold the additional characters, and that you are given the true length of the string (Note: If implementing in Java, please use a character array so that you can perform this operation in place.)"
      ]
    },
    {
      "cell_type": "code",
      "metadata": {
        "id": "rWM6w6AySZLR",
        "colab_type": "code",
        "colab": {}
      },
      "source": [
        "def url_fy(string):\n",
        "    return string.strip().replace(\" \",\"%20\")"
      ],
      "execution_count": null,
      "outputs": []
    },
    {
      "cell_type": "markdown",
      "metadata": {
        "id": "TP6LqAC-Ss-G",
        "colab_type": "text"
      },
      "source": [
        "**1.4 Palindrome Permutation**: Given a string, write a function to check if it is a permutation of a palindrome. A palindrome is a word or phrase that is the same forwards and backwards. A permutation is a rearrangement of letters. The palindrome does not need to be limited to just dictionary words."
      ]
    },
    {
      "cell_type": "code",
      "metadata": {
        "id": "WF2dd-x_XvGt",
        "colab_type": "code",
        "colab": {}
      },
      "source": [
        "from collections import Counter\n",
        "def palindrome_permutation(string):\n",
        "    string = string.replace(\" \",\"\")\n",
        "    chars_counter = Counter(string)\n",
        "    unique = False\n",
        "    for v in chars_counter.values():\n",
        "        if v % 2:\n",
        "            if unique:\n",
        "                return False\n",
        "            if not unique:\n",
        "                unique = True\n",
        "    return True"
      ],
      "execution_count": null,
      "outputs": []
    },
    {
      "cell_type": "markdown",
      "metadata": {
        "id": "hxmDL46NmzUE",
        "colab_type": "text"
      },
      "source": [
        "**1.5 One Away**: There are three types of edits that can be performed on strings: insert a character, remove a character, or replace a character. Given\n",
        "two strings, write a function to check if they are one edit( or zero edits) away."
      ]
    },
    {
      "cell_type": "code",
      "metadata": {
        "id": "9ksIJ8mhbZZ-",
        "colab_type": "code",
        "colab": {}
      },
      "source": [
        "from collections import Counter\n",
        "def one_away(s1,s2):\n",
        "    if len(s1) - len(s2) not in (-1,0,1):\n",
        "        return False\n",
        "    #d = { -1: (0,1), 0: (1,1), 1: (1,0) }\n",
        "    #x,y = d[ len(s1) - len(s2) ]\n",
        "    x,y = { -1: (0,1), 0: (1,1), 1: (1,0) }[ len(s1) - len(s2) ]\n",
        "    for idx,(c1,c2) in enumerate(zip(s1,s2)):\n",
        "        if c1 != c2:\n",
        "            s1 = s1[:idx] + s1[idx+x:]\n",
        "            s2 = s2[:idx] + s2[idx+y:]\n",
        "            return s1 == s2\n",
        "    return True"
      ],
      "execution_count": null,
      "outputs": []
    },
    {
      "cell_type": "markdown",
      "metadata": {
        "id": "ebVNwSX1wloO",
        "colab_type": "text"
      },
      "source": [
        "**1.6 String Compression**: Implement a method to perform basic string compression using the counts of repeated characters. For example, the string aabcccccaaa would become a2b1c5a3. If the compressed string would not become smaller than the original string, your method should return the original string. You can assume the string has only uppercase and lowercase letters (a - z)."
      ]
    },
    {
      "cell_type": "code",
      "metadata": {
        "id": "gufMb0Pvjp6b",
        "colab_type": "code",
        "colab": {}
      },
      "source": [
        "def string_compression(string):\n",
        "    new_string = \"\"\n",
        "    count = 0\n",
        "    last = len(string)-1\n",
        "    for idx,c in enumerate(string):\n",
        "        if idx == last:\n",
        "            new_string += c + str(count+1)\n",
        "        elif c == string[idx+1]:\n",
        "            count += 1\n",
        "        else:\n",
        "            new_string += c + str(count+1)\n",
        "            count = 0\n",
        "    return min(string,new_string,key=len)"
      ],
      "execution_count": null,
      "outputs": []
    },
    {
      "cell_type": "markdown",
      "metadata": {
        "id": "PJK8P4Zl-5M_",
        "colab_type": "text"
      },
      "source": [
        "**1.7 Rotate Matrix**: Given an image represented by an NxN matrix, where each pixel in the image is 4 bytes, write a method to rotate the image by 90 degrees (Can an you do this in place?)"
      ]
    },
    {
      "cell_type": "code",
      "metadata": {
        "id": "k8Q5xwx5ALkT",
        "colab_type": "code",
        "colab": {}
      },
      "source": [
        "def rotate_matrix(matrix):\n",
        "    n = len(matrix)\n",
        "    layer_count = int(n/2)\n",
        "    for x in range(layer_count):\n",
        "        for idx in range(n-2*x-1):\n",
        "            fr_e = matrix[x][idx+x]\n",
        "            lc_e = matrix[idx+x][n-(x+1)]\n",
        "            lr_e_r = matrix[n-(x+1)][n-idx-(x+1)]\n",
        "            fc_e_r = matrix[n-idx-(x+1)][x]\n",
        "            matrix[x][idx+x] = fc_e_r\n",
        "            matrix[idx+x][n-(x+1)] = fr_e\n",
        "            matrix[n-idx-(x+1)][x] = lr_e_r\n",
        "            matrix[n-(x+1)][n-idx-(x+1)] = lc_e\n",
        "    return matrix"
      ],
      "execution_count": null,
      "outputs": []
    },
    {
      "cell_type": "markdown",
      "metadata": {
        "id": "dTQmL8s9DeYi",
        "colab_type": "text"
      },
      "source": [
        "**1.8 Zero Matrix**: Write an algorithm such that if an element in an MxN matrix is 0, its entire row andcolumn are set to O."
      ]
    },
    {
      "cell_type": "code",
      "metadata": {
        "id": "9Z9kj_-_Dx1n",
        "colab_type": "code",
        "colab": {}
      },
      "source": [
        "def zero_matrix(matrix):\n",
        "    row_len = len(matrix[0])\n",
        "    rows = []\n",
        "    cols = []\n",
        "    for idx,row in enumerate(matrix):\n",
        "        for inx,col in enumerate(row):\n",
        "            if col == 0:\n",
        "                rows.append(idx)\n",
        "                cols.append(inx)\n",
        "    for idx in rows:\n",
        "        matrix[idx] = [0] * row_len\n",
        "    for c in cols:\n",
        "        for i in range(len(matrix)):\n",
        "            matrix[i][c] = 0\n",
        "    return matrix"
      ],
      "execution_count": 46,
      "outputs": []
    }
  ]
}