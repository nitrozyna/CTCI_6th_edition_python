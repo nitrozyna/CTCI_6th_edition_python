{
  "nbformat": 4,
  "nbformat_minor": 0,
  "metadata": {
    "colab": {
      "name": "Chapter_2",
      "provenance": [],
      "authorship_tag": "ABX9TyOj7Cot8mAs5vNUdg9cmfTm",
      "include_colab_link": true
    },
    "kernelspec": {
      "name": "python3",
      "display_name": "Python 3"
    }
  },
  "cells": [
    {
      "cell_type": "markdown",
      "metadata": {
        "id": "view-in-github",
        "colab_type": "text"
      },
      "source": [
        "<a href=\"https://colab.research.google.com/github/nitrozyna/CTCI_6th_edition_python/blob/master/Chapter_2.ipynb\" target=\"_parent\"><img src=\"https://colab.research.google.com/assets/colab-badge.svg\" alt=\"Open In Colab\"/></a>"
      ]
    },
    {
      "cell_type": "markdown",
      "metadata": {
        "id": "J6VaTkpq89aa",
        "colab_type": "text"
      },
      "source": [
        "Implementation of singly-linked list for fun\n"
      ]
    },
    {
      "cell_type": "code",
      "metadata": {
        "id": "d0X6AEPs88WJ",
        "colab_type": "code",
        "colab": {}
      },
      "source": [
        "# Node - needs to have a value and pointer to next node. We will need to set the\n",
        "# next value, get the value of the current node and get the next value\n",
        "\n",
        "class Node(object):\n",
        "    def __init__(self,value=None,next=None):\n",
        "        self.value = value\n",
        "        self.next = next"
      ],
      "execution_count": 3,
      "outputs": []
    },
    {
      "cell_type": "code",
      "metadata": {
        "id": "7fnIMOp9_0gJ",
        "colab_type": "code",
        "colab": {}
      },
      "source": [
        "class LinkedList(object):\n",
        "    def __init__(self,head=None):\n",
        "        self.head = head\n",
        "\n",
        "    def insert(self,value):\n",
        "        new_node = Node(value)\n",
        "        new_node.set_next - \n"
      ],
      "execution_count": null,
      "outputs": []
    },
    {
      "cell_type": "markdown",
      "metadata": {
        "id": "tHJRgoHL_Reh",
        "colab_type": "text"
      },
      "source": [
        "# **2.1 Remove Dups**: Write code to remove duplicates from an unsorted linked list.\n",
        "\n",
        "FOLLOW UP\n",
        "\n",
        "How would you solve this problem if a temporary buffer is not allowed?"
      ]
    },
    {
      "cell_type": "code",
      "metadata": {
        "id": "fY6TxZhl_e4E",
        "colab_type": "code",
        "colab": {}
      },
      "source": [
        "def remove_dups(n):\n",
        "    buffer = set()\n",
        "    initial = n\n",
        "    if n == None:\n",
        "        return None\n",
        "    while (n.next):\n",
        "        n2 = n.next\n",
        "        while n2.next:\n",
        "            if n2.value == n.value:\n",
        "                #remove\n",
        "            n2 =    n2.next\n",
        "        n = n.next\n",
        "\n",
        "\n",
        "        if n.value in buffer:\n",
        "            previous.next = n.next\n",
        "        else:\n",
        "            buffer.add(n.value)\n",
        "        previous = n\n",
        "        n = n.next\n",
        "    return initial"
      ],
      "execution_count": 28,
      "outputs": []
    },
    {
      "cell_type": "code",
      "metadata": {
        "id": "1viDJr5UC9Gj",
        "colab_type": "code",
        "colab": {}
      },
      "source": [
        "def createLinkedList(arr):\n",
        "    head = Node(arr[0])\n",
        "    n = head\n",
        "    for value in arr[1:]:\n",
        "        n.next = Node(value)\n",
        "        n = n.next\n",
        "    return head"
      ],
      "execution_count": 29,
      "outputs": []
    },
    {
      "cell_type": "code",
      "metadata": {
        "id": "-hIJ3yIpDQ1R",
        "colab_type": "code",
        "colab": {
          "base_uri": "https://localhost:8080/",
          "height": 51
        },
        "outputId": "ad7f24cd-bd1e-40f8-b9fb-8776aa165d6a"
      },
      "source": [
        "n = createLinkedList( [1,32,5,325,1,4,512,25,65] )\n",
        "printLinkedList( n )\n",
        "a = remove_dups(n)\n",
        "printLinkedList(a)"
      ],
      "execution_count": 30,
      "outputs": [
        {
          "output_type": "stream",
          "text": [
            "[1, 32, 5, 325, 1, 4, 512, 25]\n",
            "[1, 32, 5, 325, 4, 512, 25]\n"
          ],
          "name": "stdout"
        }
      ]
    },
    {
      "cell_type": "code",
      "metadata": {
        "id": "8aoBke3dDYa6",
        "colab_type": "code",
        "colab": {}
      },
      "source": [
        "def printLinkedList(head):\n",
        "    arr = []\n",
        "    while head.next:\n",
        "        arr.append( head.value )\n",
        "        head = head.next\n",
        "    print( arr ) "
      ],
      "execution_count": 23,
      "outputs": []
    }
  ]
}