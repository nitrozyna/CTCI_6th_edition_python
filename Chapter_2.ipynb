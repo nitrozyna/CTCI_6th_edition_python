{
  "nbformat": 4,
  "nbformat_minor": 0,
  "metadata": {
    "colab": {
      "name": "Chapter_2",
      "provenance": [],
      "authorship_tag": "ABX9TyMleljec+sDp74bqyIzUumJ",
      "include_colab_link": true
    },
    "kernelspec": {
      "name": "python3",
      "display_name": "Python 3"
    }
  },
  "cells": [
    {
      "cell_type": "markdown",
      "metadata": {
        "id": "view-in-github",
        "colab_type": "text"
      },
      "source": [
        "<a href=\"https://colab.research.google.com/github/nitrozyna/CTCI_6th_edition_python/blob/master/Chapter_2.ipynb\" target=\"_parent\"><img src=\"https://colab.research.google.com/assets/colab-badge.svg\" alt=\"Open In Colab\"/></a>"
      ]
    },
    {
      "cell_type": "markdown",
      "metadata": {
        "id": "J6VaTkpq89aa",
        "colab_type": "text"
      },
      "source": [
        "Implementation of singly-linked list for fun\n"
      ]
    },
    {
      "cell_type": "code",
      "metadata": {
        "id": "d0X6AEPs88WJ",
        "colab_type": "code",
        "colab": {}
      },
      "source": [
        "# Node - needs to have a value and pointer to next node. We will need to set the\n",
        "# next value, get the value of the current node and get the next value\n",
        "\n",
        "class Node(object):\n",
        "    def __init__(self,value=None,next=None):\n",
        "        self.value = value\n",
        "        self.next = next"
      ],
      "execution_count": 7,
      "outputs": []
    },
    {
      "cell_type": "code",
      "metadata": {
        "id": "1viDJr5UC9Gj",
        "colab_type": "code",
        "colab": {}
      },
      "source": [
        "def createLinkedList(arr):\n",
        "    head = Node(arr[0])\n",
        "    n = head\n",
        "    for value in arr[1:]:\n",
        "        n.next = Node(value)\n",
        "        n = n.next\n",
        "    return head"
      ],
      "execution_count": 8,
      "outputs": []
    },
    {
      "cell_type": "code",
      "metadata": {
        "id": "8aoBke3dDYa6",
        "colab_type": "code",
        "colab": {}
      },
      "source": [
        "def printLinkedList(head):\n",
        "    arr = []\n",
        "    while head:\n",
        "        arr.append( head.value )\n",
        "        head = head.next\n",
        "    print( arr ) "
      ],
      "execution_count": 9,
      "outputs": []
    },
    {
      "cell_type": "markdown",
      "metadata": {
        "id": "tHJRgoHL_Reh",
        "colab_type": "text"
      },
      "source": [
        "# **2.1 Remove Dups**: Write code to remove duplicates from an unsorted linked list.\n",
        "\n",
        "FOLLOW UP\n",
        "\n",
        "How would you solve this problem if a temporary buffer is not allowed?"
      ]
    },
    {
      "cell_type": "code",
      "metadata": {
        "id": "IqrKE4Juh71U",
        "colab_type": "code",
        "colab": {}
      },
      "source": [
        "# With the buffer\n",
        "def remove_dups_buffer(n):\n",
        "    buffer = set()\n",
        "    if n == None:\n",
        "        return None\n",
        "    while (n.next):\n",
        "        buffer.add(n.value)\n",
        "        while n.next.value in buffer:\n",
        "            n.next = n.next.next\n",
        "        if n.next:\n",
        "            n = n.next\n",
        "    return n"
      ],
      "execution_count": null,
      "outputs": []
    },
    {
      "cell_type": "markdown",
      "metadata": {
        "id": "sFyqcYGm4dpf",
        "colab_type": "text"
      },
      "source": [
        "The only way not to have a buffer, we need to compare each node to all the others"
      ]
    },
    {
      "cell_type": "code",
      "metadata": {
        "id": "fY6TxZhl_e4E",
        "colab_type": "code",
        "colab": {}
      },
      "source": [
        "# Without the buffer\n",
        "def remove_dups(n):\n",
        "    if n == None:\n",
        "        return None\n",
        "    while (n.next):\n",
        "        n2 = n.next\n",
        "        previous = n\n",
        "        while n2:\n",
        "            if n2.value == n.value:\n",
        "                #remove the repetition\n",
        "                previous.next = n2.next\n",
        "            previous = n2\n",
        "            n2 = n2.next\n",
        "        if n.next:\n",
        "            n = n.next\n",
        "    return n"
      ],
      "execution_count": null,
      "outputs": []
    },
    {
      "cell_type": "markdown",
      "metadata": {
        "id": "wTGtguAwiAXj",
        "colab_type": "text"
      },
      "source": [
        "**2.2 Return Kth to Last**: Implement an algorithm to find the kth to last element of a singly linked list."
      ]
    },
    {
      "cell_type": "code",
      "metadata": {
        "id": "CUsom73SiM6Y",
        "colab_type": "code",
        "colab": {}
      },
      "source": [
        "def kth_to_last(n,k):\n",
        "    counter = 0\n",
        "    if n == None:\n",
        "        return None\n",
        "    while (n.next):\n",
        "        counter += 1\n",
        "        if counter == k:\n",
        "            return n.next\n",
        "        n = n.next"
      ],
      "execution_count": null,
      "outputs": []
    },
    {
      "cell_type": "markdown",
      "metadata": {
        "id": "FPqxibkGugq3",
        "colab_type": "text"
      },
      "source": [
        "**2.3 Delete Middle Node**: Implement an algorithm to delete a node in the middle (i.e. any node but the first and last node, not necessarily the exact middle) of a singly linked list, given only access to that node.\n",
        "\n",
        "EXAMPLE\n",
        "\n",
        "Input: the node c from the linked list a->b->c->d->e->f\n",
        "\n",
        "Result: nothing is returned, but the new linked list looks like a ->b->d->e->f"
      ]
    },
    {
      "cell_type": "code",
      "metadata": {
        "id": "HPadWPm2vRZZ",
        "colab_type": "code",
        "colab": {}
      },
      "source": [
        "def delete_middle_node(n):\n",
        "    n.value = n.next.value\n",
        "    n.next = n.next.next"
      ],
      "execution_count": 80,
      "outputs": []
    },
    {
      "cell_type": "markdown",
      "metadata": {
        "id": "rnpOIyYuzP1K",
        "colab_type": "text"
      },
      "source": [
        "**2.4 Partition**: Write code to partition a linked list around a value x, such that all nodes less than x come before all nodes greater than or equal to x. lf x is contained within the list, the values of x only need to be after the elements less than x (see below).The partition element x can appear anywhere in the right partition; it does not need to appear between the left and right partitions.\n",
        "EXAMPLE\n",
        "\n",
        "Input:\n",
        "3->5->8->5->1->2->1    [partition = 5)\n",
        "\n",
        "Output:\n",
        "3->1->2->1->5->5->8"
      ]
    },
    {
      "cell_type": "code",
      "metadata": {
        "id": "Hw1S1nO_0Pi8",
        "colab_type": "code",
        "colab": {}
      },
      "source": [
        "def inefficient_partition(n,p):\n",
        "    if n == None:\n",
        "        return None\n",
        "    buffer = []\n",
        "    while n:\n",
        "        buffer.append(n.value)\n",
        "        n = n.next\n",
        "    buffer = sorted(buffer)\n",
        "    return(createLinkedList(buffer))\n"
      ],
      "execution_count": 15,
      "outputs": []
    },
    {
      "cell_type": "code",
      "metadata": {
        "id": "ZgOye8fm9uCw",
        "colab_type": "code",
        "colab": {}
      },
      "source": [
        "def partition(n,p):\n",
        "    less = Node()\n",
        "    more = Node()\n",
        "    head_less = less\n",
        "    head_more = more\n",
        "    if n == None:\n",
        "        return None\n",
        "    while n:\n",
        "        if n.value < p:\n",
        "            less.next = Node(n.value)\n",
        "            less = less.next\n",
        "        else:\n",
        "            more.next = Node(n.value)\n",
        "            more = more.next \n",
        "        n = n.next\n",
        "    less.next = head_more.next\n",
        "    return head_less.next    "
      ],
      "execution_count": 98,
      "outputs": []
    },
    {
      "cell_type": "markdown",
      "metadata": {
        "id": "ie1B5gMN2Zzb",
        "colab_type": "text"
      },
      "source": [
        "**2.5 SumLists**: You have two numbers represented by a linkedlist,where each node contains a single digit.The digits are stored in reverse order, such that the 1's digit is at the head of the list. Write a function that adds the two numbers and returns the sum as a linked list.\n",
        "\n",
        "EXAMPLE\n",
        "\n",
        "Input:\n",
        "\n",
        "(7 -> 1 -> 6) + (5 -> 9 -> 2). That is, 617 + 295.\n",
        "Output: 2 -> 1 -> 9.That is, 912.\n",
        "\n",
        "FOLLOW UP\n",
        "\n",
        "Suppose the digits are stored in forward order. Repeat the above problem.\n",
        "\n",
        "EXAMPLE\n",
        "\n",
        "Input: (6 -> 1 -> 7) + (2 -> 9 -> 5). That is, 617 + 295.\n",
        "\n",
        "Output: 9 -> 1 -> 2. That is, 912."
      ]
    },
    {
      "cell_type": "code",
      "metadata": {
        "id": "U4lGQ3FqcQ-I",
        "colab_type": "code",
        "colab": {}
      },
      "source": [
        "# Sum list reverse\n",
        "def SumListReverse(l1,l2):\n",
        "    total = 0\n",
        "    dec = 1\n",
        "    while l1:\n",
        "        total += l1.value * dec\n",
        "        dec *= 10\n",
        "        l1 = l1.next\n",
        "    dec = 1\n",
        "    while l2:\n",
        "        total += l2.value * dec\n",
        "        dec *= 10\n",
        "        l2 = l2.next\n",
        "    linked = Node(0)\n",
        "    first = linked\n",
        "    while total != 0:\n",
        "        digit = total % 10 \n",
        "        node = Node(digit)\n",
        "        linked.next = Node(digit)\n",
        "        linked = linked.next\n",
        "        total = total // 10\n",
        "    if first.next:\n",
        "        return first.next\n",
        "    return first\n",
        "            "
      ],
      "execution_count": 21,
      "outputs": []
    },
    {
      "cell_type": "code",
      "metadata": {
        "id": "knx_u8t3F-ye",
        "colab_type": "code",
        "colab": {}
      },
      "source": [
        "# Reverse list solution without using an integer\n",
        "# Definition for singly-linked list.\n",
        "# class ListNode:\n",
        "#     def __init__(self, val=0, next=None):\n",
        "#         self.val = val\n",
        "#         self.next = next\n",
        "class Solution:\n",
        "    def addTwoNumbers(self, l1: ListNode, l2: ListNode) -> ListNode:\n",
        "        result = ListNode()\n",
        "        first = result\n",
        "        carry = 0\n",
        "        while l1 or l2:\n",
        "            if l1:\n",
        "                carry += l1.val\n",
        "                l1 = l1.next\n",
        "            if l2:\n",
        "                carry += l2.val\n",
        "                l2 = l2.next\n",
        "            result.val = carry % 10\n",
        "            carry //= 10\n",
        "            if l1 != None or l2 != None:\n",
        "                result.next = ListNode()\n",
        "                result = result.next\n",
        "        if carry > 0:\n",
        "            result.next = ListNode()\n",
        "            result = result.next\n",
        "            result.val = carry\n",
        "        return first\n",
        "    "
      ],
      "execution_count": null,
      "outputs": []
    },
    {
      "cell_type": "code",
      "metadata": {
        "id": "u30YW1-e8BYz",
        "colab_type": "code",
        "colab": {
          "base_uri": "https://localhost:8080/",
          "height": 34
        },
        "outputId": "b98c995d-e20d-4bfb-b781-7afdc675335a"
      },
      "source": [
        "lista = createLinkedList([1,2,3])\n",
        "listb = createLinkedList([1,2,3])\n",
        "sum  = SumListForward(lista,listb)\n",
        "printLinkedList(sum)"
      ],
      "execution_count": 20,
      "outputs": [
        {
          "output_type": "stream",
          "text": [
            "[2, 3]\n"
          ],
          "name": "stdout"
        }
      ]
    },
    {
      "cell_type": "code",
      "metadata": {
        "id": "cZrd9EdJiGxv",
        "colab_type": "code",
        "colab": {}
      },
      "source": [
        ""
      ],
      "execution_count": null,
      "outputs": []
    }
  ]
}