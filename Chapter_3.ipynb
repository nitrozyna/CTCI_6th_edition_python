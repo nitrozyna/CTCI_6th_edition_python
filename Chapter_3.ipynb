{
  "nbformat": 4,
  "nbformat_minor": 0,
  "metadata": {
    "colab": {
      "name": "Chapter _3.ipynb",
      "provenance": [],
      "authorship_tag": "ABX9TyPq4/DdbmR/NLiftPP2Te9k",
      "include_colab_link": true
    },
    "kernelspec": {
      "name": "python3",
      "display_name": "Python 3"
    }
  },
  "cells": [
    {
      "cell_type": "markdown",
      "metadata": {
        "id": "view-in-github",
        "colab_type": "text"
      },
      "source": [
        "<a href=\"https://colab.research.google.com/github/nitrozyna/CTCI_6th_edition_python/blob/master/Chapter_3.ipynb\" target=\"_parent\"><img src=\"https://colab.research.google.com/assets/colab-badge.svg\" alt=\"Open In Colab\"/></a>"
      ]
    },
    {
      "cell_type": "markdown",
      "metadata": {
        "id": "tzIO6SnlTOmW",
        "colab_type": "text"
      },
      "source": [
        "**3.2 Stack Min**: How would you design a stack which, in addition to push and pop has a function min which returns the minimum element? Push,pop and min should all operate in 0(1) time\n",
        "\n",
        "\n"
      ]
    },
    {
      "cell_type": "code",
      "metadata": {
        "id": "wW6sEHAJR1ph",
        "colab_type": "code",
        "colab": {}
      },
      "source": [
        "class Stack():\n",
        "    def __init__(self):\n",
        "        self.stack = []\n",
        "        self.min_stack = []\n",
        "\n",
        "    def isEmpty(self):\n",
        "        return self.stack == []\n",
        "            \n",
        "    def push(self,element):\n",
        "        self.stack.append(element)\n",
        "        if self.min_stack == []:\n",
        "            self.min_stack.append(element)\n",
        "        elif self.min_stack[-1] >= element:\n",
        "            self.min_stack.append(element)\n",
        "\n",
        "    def pop(self):\n",
        "        if self.stack[-1] == self.min_stack[-1]:\n",
        "            self.min_stack.pop(-1)\n",
        "        return self.stack.pop(-1)\n",
        "    \n",
        "    def peek(self):\n",
        "        return self.stack[-1]\n",
        "\n",
        "    def min_el(self):\n",
        "        return self.min_stack[-1]"
      ],
      "execution_count": 18,
      "outputs": []
    },
    {
      "cell_type": "code",
      "metadata": {
        "id": "dwUp-4F6qQGo",
        "colab_type": "code",
        "colab": {}
      },
      "source": [
        ""
      ],
      "execution_count": null,
      "outputs": []
    }
  ]
}